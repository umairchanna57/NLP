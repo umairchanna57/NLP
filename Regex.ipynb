{
 "cells": [
  {
   "cell_type": "code",
   "execution_count": 2,
   "id": "464cf9ff",
   "metadata": {},
   "outputs": [],
   "source": [
    "import re\n"
   ]
  },
  {
   "cell_type": "code",
   "execution_count": 19,
   "id": "39349802",
   "metadata": {},
   "outputs": [],
   "source": [
    "text = ''' The consolidated financial statements of Tesla, Inc. (“Tesla”, the “Company”, “we”, “us” or “our”), including the consolidated balance sheet as of\n",
    "June 30, 2023, the consolidated statements of operations, the consolidated statements of comprehensive income, the consolidated statements of umair mobile number is (+92)-31216153837\n",
    "﻿\n",
    "Tesla, Inc.\n",
    "Notes to Consolidated Financial Statements\n",
    "(unaudited)\n",
    "Note 1 - Overview\n",
    "Tesla, Inc. (\"Tesla\", the \"Company\", \"we\", \"us\" or \"our\") was incorporated in the State of Delaware on July 1, 2003. We design, develop, manufacture and sell high-performance fully electric vehicles and design, manufacture, install and sell solar energy generation and energy storage products. Our Chief Executive Officer, as the chief operating decision maker (\"CODM\"), organizes our company, manages resource allocations and measures performance among two operating and reportable segments: (i) automotive and (ii) energy generation and storage.\n",
    "Beginning in the first quarter of 2021, there has been a trend in many parts of the world of increasing availability and administration of vaccines against COVID-19, as well as an easing of restrictions on social, business, travel and government activities and functions. On the other hand, infection rates and regulations continue to fluctuate in various regions and there are ongoing global impacts resulting from the pandemic, including challenges and increases in costs for logistics and supply chains, such as increased port congestion, intermittent supplier delays and a shortfall of semiconductor supply. We have also previously been affected by temporary manufacturing closures, employment and compensation adjustments and impediments to administrative activities supporting our product deliveries and deployments.\n",
    "Note 2 - Summary of Significant Accounting Policies\n",
    "Unaudited Interim Financial Statements\n",
    "The consolidated balance sheet as of September 30, 2021, the consolidated statements of operations, the consolidated statements of comprehensive income, the consolidated statements of redeemable noncontrolling interests and equity for the three and nine months ended September 30, 2021 and 2020 and the consolidated statements of cash flows for the nine months ended September 30, 2021 and 2020, as well as other information disclosed in the accompanying notes, are unaudited. The consolidated balance sheet as of December 31, 2020 was derived from the audited consolidated financial statements as of that date. The interim consolidated financial statements and the accompanying notes should be read in conjunction with the annual consolidated financial statements and the accompanying notes contained in our Annual Report on Form 10-K for the year ended December 31, 2020.'''"
   ]
  },
  {
   "cell_type": "code",
   "execution_count": 36,
   "id": "47f37751",
   "metadata": {},
   "outputs": [],
   "source": [
    "pattern= r'\\(\\+\\d{2}\\)-\\d{11}'"
   ]
  },
  {
   "cell_type": "code",
   "execution_count": 37,
   "id": "8630517e",
   "metadata": {},
   "outputs": [],
   "source": [
    "matches = re.findall(pattern, text)"
   ]
  },
  {
   "cell_type": "code",
   "execution_count": 38,
   "id": "e7eeddbe",
   "metadata": {},
   "outputs": [
    {
     "data": {
      "text/plain": [
       "['(+92)-31216153837']"
      ]
     },
     "execution_count": 38,
     "metadata": {},
     "output_type": "execute_result"
    }
   ],
   "source": [
    "matches"
   ]
  },
  {
   "cell_type": "code",
   "execution_count": 39,
   "id": "077422f2",
   "metadata": {},
   "outputs": [],
   "source": [
    "pattern2= r'\\d{4}'"
   ]
  },
  {
   "cell_type": "code",
   "execution_count": 40,
   "id": "186806ab",
   "metadata": {},
   "outputs": [],
   "source": [
    "match2= re.findall(pattern2, text)"
   ]
  },
  {
   "cell_type": "code",
   "execution_count": 41,
   "id": "4a978458",
   "metadata": {},
   "outputs": [
    {
     "data": {
      "text/plain": [
       "['2023',\n",
       " '3121',\n",
       " '6153',\n",
       " '2003',\n",
       " '2021',\n",
       " '2021',\n",
       " '2021',\n",
       " '2020',\n",
       " '2021',\n",
       " '2020',\n",
       " '2020',\n",
       " '2020']"
      ]
     },
     "execution_count": 41,
     "metadata": {},
     "output_type": "execute_result"
    }
   ],
   "source": [
    "match2"
   ]
  },
  {
   "cell_type": "code",
   "execution_count": 42,
   "id": "8d8eb51d",
   "metadata": {},
   "outputs": [],
   "source": [
    "pattern3='Note \\d - [^\\n]*'"
   ]
  },
  {
   "cell_type": "code",
   "execution_count": 43,
   "id": "f34a82f5",
   "metadata": {},
   "outputs": [],
   "source": [
    "match3  = re.findall(pattern3, text)"
   ]
  },
  {
   "cell_type": "code",
   "execution_count": 44,
   "id": "b99a02a0",
   "metadata": {},
   "outputs": [
    {
     "data": {
      "text/plain": [
       "['Note 1 - Overview', 'Note 2 - Summary of Significant Accounting Policies']"
      ]
     },
     "execution_count": 44,
     "metadata": {},
     "output_type": "execute_result"
    }
   ],
   "source": [
    "match3"
   ]
  },
  {
   "cell_type": "code",
   "execution_count": 86,
   "id": "41ca54b6",
   "metadata": {},
   "outputs": [],
   "source": [
    "text2= '''\n",
    "The gross cost of operating lease vehicles in FY2021 Q1 was $4.85 billion.\n",
    "In previous quarter i.e. FY2020 Q4 it was $3 billion. \n",
    "'''"
   ]
  },
  {
   "cell_type": "code",
   "execution_count": 87,
   "id": "b27bdf5e",
   "metadata": {},
   "outputs": [],
   "source": [
    "pattern4= 'FY(\\d{4} Q[1-4])'"
   ]
  },
  {
   "cell_type": "code",
   "execution_count": 88,
   "id": "04418d76",
   "metadata": {},
   "outputs": [],
   "source": [
    "match4= re.findall(pattern4,text2)"
   ]
  },
  {
   "cell_type": "code",
   "execution_count": 89,
   "id": "fbdb60fa",
   "metadata": {},
   "outputs": [
    {
     "data": {
      "text/plain": [
       "['2021 Q1', '2020 Q4']"
      ]
     },
     "execution_count": 89,
     "metadata": {},
     "output_type": "execute_result"
    }
   ],
   "source": [
    "match4"
   ]
  },
  {
   "cell_type": "code",
   "execution_count": 93,
   "id": "08ee2e42",
   "metadata": {},
   "outputs": [],
   "source": [
    "pattern5 = '\\$[0-9\\.]+'"
   ]
  },
  {
   "cell_type": "code",
   "execution_count": 94,
   "id": "764f228b",
   "metadata": {},
   "outputs": [],
   "source": [
    "match5= re.findall(pattern5, text2)"
   ]
  },
  {
   "cell_type": "code",
   "execution_count": 95,
   "id": "95dd0adf",
   "metadata": {},
   "outputs": [
    {
     "data": {
      "text/plain": [
       "['$4.85', '$3']"
      ]
     },
     "execution_count": 95,
     "metadata": {},
     "output_type": "execute_result"
    }
   ],
   "source": [
    "match5"
   ]
  },
  {
   "cell_type": "code",
   "execution_count": 98,
   "id": "86df1ac1",
   "metadata": {},
   "outputs": [],
   "source": [
    "pattern6 = 'FY(\\d{4} Q[1-4])[^\\$]+\\$([0-9\\.]+)'"
   ]
  },
  {
   "cell_type": "code",
   "execution_count": 110,
   "id": "dd5010c7",
   "metadata": {},
   "outputs": [
    {
     "data": {
      "text/plain": [
       "[('2021 Q1', '4.85'), ('2020 Q4', '3')]"
      ]
     },
     "execution_count": 110,
     "metadata": {},
     "output_type": "execute_result"
    }
   ],
   "source": [
    "re.findall(pattern6, text2)"
   ]
  },
  {
   "cell_type": "markdown",
   "id": "af8cf597",
   "metadata": {},
   "source": [
    "# 1. Extract all twitter handles from following text. Twitter handle is the text that appears after https://twitter.com/ and is a single word. Also it contains only alpha numeric characters i.e. A-Z a-z , o to 9 and underscore "
   ]
  },
  {
   "cell_type": "code",
   "execution_count": 111,
   "id": "de45a925",
   "metadata": {},
   "outputs": [
    {
     "data": {
      "text/plain": [
       "['elonmusk', 'teslarati', 'dummy_tesla', 'dummy_2_tesla']"
      ]
     },
     "execution_count": 111,
     "metadata": {},
     "output_type": "execute_result"
    }
   ],
   "source": [
    "text4 = '''\n",
    "Follow our leader Elon musk on twitter here: https://twitter.com/elonmusk, more information \n",
    "on Tesla's products can be found at https://www.tesla.com/. Also here are leading influencers \n",
    "for tesla related news,\n",
    "https://twitter.com/teslarati\n",
    "https://twitter.com/dummy_tesla\n",
    "https://twitter.com/dummy_2_tesla\n",
    "'''\n",
    "pattern = 'https://twitter.com/([a-zA-Z0-9_]+)'\n",
    "\n",
    "re.findall(pattern, text4)"
   ]
  },
  {
   "cell_type": "code",
   "execution_count": 112,
   "id": "676e67b7",
   "metadata": {},
   "outputs": [
    {
     "data": {
      "text/plain": [
       "['elonmusk', 'teslarati', 'dummy_tesla', 'dummy_2_tesla']"
      ]
     },
     "execution_count": 112,
     "metadata": {},
     "output_type": "execute_result"
    }
   ],
   "source": [
    "re.findall(pattern, text4)"
   ]
  },
  {
   "cell_type": "code",
   "execution_count": 117,
   "id": "5fc25e67",
   "metadata": {},
   "outputs": [],
   "source": [
    "pattern = 'Also([a-zA-Z-0-9]+)'"
   ]
  },
  {
   "cell_type": "code",
   "execution_count": 118,
   "id": "912295cb",
   "metadata": {},
   "outputs": [
    {
     "data": {
      "text/plain": [
       "[]"
      ]
     },
     "execution_count": 118,
     "metadata": {},
     "output_type": "execute_result"
    }
   ],
   "source": [
    "re.findall(pattern, text4)"
   ]
  },
  {
   "cell_type": "markdown",
   "id": "c938094c",
   "metadata": {},
   "source": [
    "# 2. Extract Concentration Risk Types. It will be a text that appears after \"Concentration Risk:\", In below example, your regex should extract these two strings\n",
    "\n",
    "(1) Credit Risk\n",
    "\n",
    "(2) Supply Rish"
   ]
  },
  {
   "cell_type": "code",
   "execution_count": 121,
   "id": "1afc89c4",
   "metadata": {},
   "outputs": [],
   "source": [
    "text3 = '''\n",
    "Concentration of Risk: Credit Risk\n",
    "Financial instruments that potentially subject us to a concentration of credit risk consist of cash, cash equivalents, marketable securities,\n",
    "restricted cash, accounts receivable, convertible note hedges, and interest rate swaps. Our cash balances are primarily invested in money market funds\n",
    "or on deposit at high credit quality financial institutions in the U.S. These deposits are typically in excess of insured limits. As of September 30, 2021\n",
    "and December 31, 2020, no entity represented 10% or more of our total accounts receivable balance. The risk of concentration for our convertible note\n",
    "hedges and interest rate swaps is mitigated by transacting with several highly-rated multinational banks.\n",
    "Concentration of Risk: Supply Risk\n",
    "We are dependent on our suppliers, including single source suppliers, and the inability of these suppliers to deliver necessary components of our\n",
    "products in a timely manner at prices, quality levels and volumes acceptable to us, or our inability to efficiently manage these components from these\n",
    "suppliers, could have a material adverse effect on our business, prospects, financial condition and operating results.\n",
    "'''"
   ]
  },
  {
   "cell_type": "code",
   "execution_count": 124,
   "id": "9e29ecf1",
   "metadata": {},
   "outputs": [],
   "source": [
    "pattern = 'Concentration of Risk: ([^\\n]*)'"
   ]
  },
  {
   "cell_type": "code",
   "execution_count": 125,
   "id": "02c8427d",
   "metadata": {},
   "outputs": [
    {
     "data": {
      "text/plain": [
       "['Credit Risk', 'Supply Risk']"
      ]
     },
     "execution_count": 125,
     "metadata": {},
     "output_type": "execute_result"
    }
   ],
   "source": [
    "re.findall(pattern , text3)"
   ]
  },
  {
   "cell_type": "markdown",
   "id": "1c640d4b",
   "metadata": {},
   "source": [
    "3. Companies in europe reports their financial numbers of semi annual basis and you can have a document like this. To exatract quarterly and semin annual period you can use a regex as shown below\n",
    "\n",
    "Hint: you need to use (?:) here to match everything enclosed"
   ]
  },
  {
   "cell_type": "code",
   "execution_count": 126,
   "id": "a9581c0a",
   "metadata": {},
   "outputs": [],
   "source": [
    "text = '''\n",
    "Tesla's gross cost of operating lease vehicles in FY2021 Q1 was $4.85 billion.\n",
    "BMW's gross cost of operating vehicles in FY2021 S1 was $8 billion.\n",
    "'''"
   ]
  },
  {
   "cell_type": "code",
   "execution_count": 131,
   "id": "b4e8464a",
   "metadata": {},
   "outputs": [],
   "source": [
    "pattern ='FY(\\d{4} (?:Q[1-4]|S[1-2]))'"
   ]
  },
  {
   "cell_type": "code",
   "execution_count": 132,
   "id": "755e9dfe",
   "metadata": {},
   "outputs": [
    {
     "data": {
      "text/plain": [
       "['2021 Q1', '2021 S1']"
      ]
     },
     "execution_count": 132,
     "metadata": {},
     "output_type": "execute_result"
    }
   ],
   "source": [
    "re.findall(pattern, text)"
   ]
  },
  {
   "cell_type": "code",
   "execution_count": null,
   "id": "c78d3a4b",
   "metadata": {},
   "outputs": [],
   "source": []
  }
 ],
 "metadata": {
  "kernelspec": {
   "display_name": "Python 3 (ipykernel)",
   "language": "python",
   "name": "python3"
  },
  "language_info": {
   "codemirror_mode": {
    "name": "ipython",
    "version": 3
   },
   "file_extension": ".py",
   "mimetype": "text/x-python",
   "name": "python",
   "nbconvert_exporter": "python",
   "pygments_lexer": "ipython3",
   "version": "3.10.9"
  }
 },
 "nbformat": 4,
 "nbformat_minor": 5
}
